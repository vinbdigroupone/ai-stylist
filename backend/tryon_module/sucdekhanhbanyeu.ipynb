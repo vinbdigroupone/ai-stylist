{
  "nbformat": 4,
  "nbformat_minor": 0,
  "metadata": {
    "colab": {
      "name": "sdkbyldbkcddba.ipynb",
      "provenance": [],
      "collapsed_sections": []
    },
    "kernelspec": {
      "name": "python3",
      "display_name": "Python 3"
    },
    "accelerator": "GPU"
  },
  "cells": [
    {
      "cell_type": "code",
      "metadata": {
        "id": "wSkRb8zOBYUk"
      },
      "source": [
        "from google.colab import files"
      ],
      "execution_count": null,
      "outputs": []
    },
    {
      "cell_type": "code",
      "metadata": {
        "id": "6pV3rabdmnP8"
      },
      "source": [
        "from google.colab import drive\r\n",
        "drive.mount('/content/drive')"
      ],
      "execution_count": null,
      "outputs": []
    },
    {
      "cell_type": "code",
      "metadata": {
        "id": "h4HLEbPdP6LK"
      },
      "source": [
        "!git clone https://github.com/sergeywong/cp-vton"
      ],
      "execution_count": null,
      "outputs": []
    },
    {
      "cell_type": "code",
      "metadata": {
        "id": "yce_FgVTRJ6z"
      },
      "source": [
        "cd /content/cp-vton"
      ],
      "execution_count": null,
      "outputs": []
    },
    {
      "cell_type": "code",
      "metadata": {
        "id": "WTtvBM9VRulG"
      },
      "source": [
        "!pip -q install tensorboardX"
      ],
      "execution_count": null,
      "outputs": []
    },
    {
      "cell_type": "code",
      "metadata": {
        "id": "zhw7MhG-RAAC"
      },
      "source": [
        "!python data_download.py"
      ],
      "execution_count": null,
      "outputs": []
    },
    {
      "cell_type": "markdown",
      "metadata": {
        "id": "AblvPyHbHh6T"
      },
      "source": [
        "Subset 1000 image pairs for training\r\n"
      ]
    },
    {
      "cell_type": "code",
      "metadata": {
        "id": "pZ6wXCuH_5pW"
      },
      "source": [
        "with open('/content/cp-vton/data/train_pairs.txt') as f:\r\n",
        "  pairs = f.readlines()\r\n",
        "  pairs = [pair.replace('\\n', '') for pair in pairs]\r\n",
        "  pairs = pairs[:1000]\r\n",
        "  sub_cloth = []\r\n",
        "  sub_image = []\r\n",
        "  for pair in pairs:\r\n",
        "    sub_cloth.append(pair.split(' ')[1])\r\n",
        "    sub_image.append(pair.split(' ')[0])\r\n",
        "\r\n",
        "sub_parse = [file.replace('jpg', 'png') for file in sub_image]\r\n",
        "sub_pose = [file.replace('.jpg', '_keypoints.json') for file in sub_image]"
      ],
      "execution_count": null,
      "outputs": []
    },
    {
      "cell_type": "code",
      "metadata": {
        "id": "xSiRYn43L9RV"
      },
      "source": [
        "sub_pose[:10]"
      ],
      "execution_count": null,
      "outputs": []
    },
    {
      "cell_type": "code",
      "metadata": {
        "id": "ITf74aaFFft0"
      },
      "source": [
        "!mv /content/cp-vton/data/train/cloth /content/cp-vton/data/train/cloth1\r\n",
        "!mv /content/cp-vton/data/train/cloth-mask /content/cp-vton/data/train/cloth-mask1\r\n",
        "!mv /content/cp-vton/data/train/image /content/cp-vton/data/train/image1\r\n",
        "!mv /content/cp-vton/data/train/image-parse /content/cp-vton/data/train/image-parse1\r\n",
        "!mv /content/cp-vton/data/train/pose /content/cp-vton/data/train/pose1\r\n",
        "!mv /content/cp-vton/data/train_pairs.txt /content/cp-vton/data/train_pairs1.txt"
      ],
      "execution_count": null,
      "outputs": []
    },
    {
      "cell_type": "code",
      "metadata": {
        "id": "jURuQM7YNcxn"
      },
      "source": [
        "!mkdir /content/cp-vton/data/train/cloth\r\n",
        "!mkdir /content/cp-vton/data/train/cloth-mask\r\n",
        "!mkdir /content/cp-vton/data/train/image\r\n",
        "!mkdir /content/cp-vton/data/train/image-parse\r\n",
        "!mkdir /content/cp-vton/data/train/pose"
      ],
      "execution_count": null,
      "outputs": []
    },
    {
      "cell_type": "code",
      "metadata": {
        "id": "1H2FAQ5jJsc9"
      },
      "source": [
        "import glob\r\n",
        "import shutil, os\r\n",
        "\r\n",
        "folder_cloth = 'cloth'\r\n",
        "folder_mask = 'cloth-mask'\r\n",
        "folder_image = 'image'\r\n",
        "folder_parse = 'image-parse'\r\n",
        "folder_pose = 'pose'\r\n",
        "\r\n",
        "def copy_files(folder, sub_, mode):\r\n",
        "    for file in sub_:\r\n",
        "      src = r'/content/cp-vton/data/' + mode + '/' + folder +'1/' + file\r\n",
        "      dst = r'/content/cp-vton/data/' + mode +'/' + folder + '/' + file\r\n",
        "      shutil.copyfile(src, dst)"
      ],
      "execution_count": null,
      "outputs": []
    },
    {
      "cell_type": "code",
      "metadata": {
        "id": "p3Wi89ndziH3"
      },
      "source": [
        "# sub-cloth, image, parse, pose\r\n",
        "copy_files(folder_parse, sub_parse, 'train')\r\n",
        "copy_files(folder_pose, sub_pose, 'train')"
      ],
      "execution_count": null,
      "outputs": []
    },
    {
      "cell_type": "code",
      "metadata": {
        "id": "1SHowQLqNI4s"
      },
      "source": [
        "with open('/content/cp-vton/data/train_pairs.txt', 'w') as f:\r\n",
        "  for item in pairs:\r\n",
        "    f.write('%s\\n' % item)"
      ],
      "execution_count": null,
      "outputs": []
    },
    {
      "cell_type": "markdown",
      "metadata": {
        "id": "uBeZ6SK6qW_v"
      },
      "source": [
        "Subset 1000 image pairs for testing"
      ]
    },
    {
      "cell_type": "code",
      "metadata": {
        "id": "OfRiPq7bqZhW"
      },
      "source": [
        "with open('/content/cp-vton/data/test_pairs.txt') as f:\r\n",
        "  pairs = f.readlines()\r\n",
        "  pairs = [pair.replace('\\n', '') for pair in pairs]\r\n",
        "  pairs_t = pairs[:1000]\r\n",
        "  sub_cloth_t = []\r\n",
        "  sub_image_t = []\r\n",
        "  for pair in pairs_t:\r\n",
        "    sub_cloth_t.append(pair.split(' ')[1])\r\n",
        "    sub_image_t.append(pair.split(' ')[0])\r\n",
        "\r\n",
        "sub_parse_t = [file.replace('jpg', 'png') for file in sub_image_t]\r\n",
        "sub_pose_t = [file.replace('.jpg', '_keypoints.json') for file in sub_image_t]"
      ],
      "execution_count": null,
      "outputs": []
    },
    {
      "cell_type": "code",
      "metadata": {
        "id": "cEiYw9_KrBaV"
      },
      "source": [
        "!mv /content/cp-vton/data/test/cloth /content/cp-vton/data/test/cloth1\r\n",
        "!mv /content/cp-vton/data/test/cloth-mask /content/cp-vton/data/test/cloth-mask1\r\n",
        "!mv /content/cp-vton/data/test/image /content/cp-vton/data/test/image1\r\n",
        "!mv /content/cp-vton/data/test/image-parse /content/cp-vton/data/test/image-parse1\r\n",
        "!mv /content/cp-vton/data/test/pose /content/cp-vton/data/test/pose1\r\n",
        "!mv /content/cp-vton/data/test_pairs.txt /content/cp-vton/data/test_pairs1.txt"
      ],
      "execution_count": null,
      "outputs": []
    },
    {
      "cell_type": "code",
      "metadata": {
        "id": "U2W1h55sr7LR"
      },
      "source": [
        "!mkdir /content/cp-vton/data/test/cloth\r\n",
        "!mkdir /content/cp-vton/data/test/cloth-mask\r\n",
        "!mkdir /content/cp-vton/data/test/image\r\n",
        "!mkdir /content/cp-vton/data/test/image-parse\r\n",
        "!mkdir /content/cp-vton/data/test/pose"
      ],
      "execution_count": null,
      "outputs": []
    },
    {
      "cell_type": "code",
      "metadata": {
        "id": "P5g3-4l_sGni"
      },
      "source": [
        "# sub-cloth, image, parse, pose\r\n",
        "copy_files(folder_cloth, sub_cloth_t, 'test')\r\n",
        "copy_files(folder_mask, sub_cloth_t, 'test')\r\n",
        "copy_files(folder_image, sub_image_t, 'test')\r\n",
        "copy_files(folder_parse, sub_parse_t, 'test')\r\n",
        "copy_files(folder_pose, sub_pose_t, 'test')"
      ],
      "execution_count": null,
      "outputs": []
    },
    {
      "cell_type": "markdown",
      "metadata": {
        "id": "4rFCHjJEICSG"
      },
      "source": [
        "Prepare dir to load from checkpoint"
      ]
    },
    {
      "cell_type": "code",
      "metadata": {
        "id": "KTGvkgu1IHgW"
      },
      "source": [
        "!mkdir /content/cp-vton/checkpoints"
      ],
      "execution_count": null,
      "outputs": []
    },
    {
      "cell_type": "markdown",
      "metadata": {
        "id": "SZ9PiSxGzAa1"
      },
      "source": [
        "Train GMM"
      ]
    },
    {
      "cell_type": "code",
      "metadata": {
        "id": "g4KV2JaDh8kv"
      },
      "source": [
        "# in cp_dataset.py: https://github.com/sergeywong/cp-vton/issues/26"
      ],
      "execution_count": null,
      "outputs": []
    },
    {
      "cell_type": "code",
      "metadata": {
        "id": "Xn9rDJasi-VV"
      },
      "source": [
        "# in networks.py: https://github.com/sergeywong/cp-vton/issues/30"
      ],
      "execution_count": null,
      "outputs": []
    },
    {
      "cell_type": "code",
      "metadata": {
        "id": "1Phn77tiRJFU"
      },
      "source": [
        "!python train.py --name gmm_train_new --stage GMM --workers 4 --save_count 5000 --display_count 100 --shuffle --checkpoint checkpoints/gmm_step_100000.pth"
      ],
      "execution_count": null,
      "outputs": []
    },
    {
      "cell_type": "markdown",
      "metadata": {
        "id": "fLcbrG4HzOVD"
      },
      "source": [
        "Check for checkpoint"
      ]
    },
    {
      "cell_type": "code",
      "metadata": {
        "id": "Gr6cD6-CRjxo"
      },
      "source": [
        "cd /content/cp-vton/checkpoints/gmm_train_new/"
      ],
      "execution_count": null,
      "outputs": []
    },
    {
      "cell_type": "code",
      "metadata": {
        "id": "e1mHdN3nofZo"
      },
      "source": [
        "!ls -l"
      ],
      "execution_count": null,
      "outputs": []
    },
    {
      "cell_type": "code",
      "metadata": {
        "id": "hH7dlCx_ogZg"
      },
      "source": [
        "from google.colab import files\r\n",
        "files.download('/content/cp-vton/checkpoints/gmm_train_new/step_100000.pth') "
      ],
      "execution_count": null,
      "outputs": []
    },
    {
      "cell_type": "code",
      "metadata": {
        "id": "WPHTgpt4pBkn"
      },
      "source": [
        "cd /content/cp-vton"
      ],
      "execution_count": null,
      "outputs": []
    },
    {
      "cell_type": "markdown",
      "metadata": {
        "id": "v4twqGJ9zRFM"
      },
      "source": [
        "Check Tensorboard"
      ]
    },
    {
      "cell_type": "code",
      "metadata": {
        "id": "tbu4YeLet1Hs"
      },
      "source": [
        "%load_ext tensorboard"
      ],
      "execution_count": null,
      "outputs": []
    },
    {
      "cell_type": "code",
      "metadata": {
        "id": "CN3qnfNjuxpl"
      },
      "source": [
        "%tensorboard --logdir /content/cp-vton/tensorboard/gmm_train_new"
      ],
      "execution_count": null,
      "outputs": []
    },
    {
      "cell_type": "markdown",
      "metadata": {
        "id": "lIEPuKA5zHLB"
      },
      "source": [
        "Generate GMM clothes for TOM"
      ]
    },
    {
      "cell_type": "code",
      "metadata": {
        "id": "1oFvSS3Su2CY"
      },
      "source": [
        "!python test.py --name gmm_traintest_new --stage GMM --workers 4 --datamode train --data_list train_pairs.txt --checkpoint /content/drive/MyDrive/gmm_step_200000.pth"
      ],
      "execution_count": null,
      "outputs": []
    },
    {
      "cell_type": "code",
      "metadata": {
        "id": "CLrzSDIE7FWR"
      },
      "source": [
        "!zip -r \"/content/cp-vton/result/gmm_step_200000.pth/train.zip\" \"/content/cp-vton/result/gmm_step_200000.pth/train\""
      ],
      "execution_count": null,
      "outputs": []
    },
    {
      "cell_type": "code",
      "metadata": {
        "id": "bIKNx-uP-A-R"
      },
      "source": [
        "cp /content/cp-vton/result/gmm_step_200000.pth/train.zip /content/drive/MyDrive"
      ],
      "execution_count": null,
      "outputs": []
    },
    {
      "cell_type": "code",
      "metadata": {
        "id": "8FvVzky30O2d"
      },
      "source": [
        "cp -r /content/cp-vton/result/gmm_step_200000.pth/train/warp-cloth /content/cp-vton/data/train"
      ],
      "execution_count": null,
      "outputs": []
    },
    {
      "cell_type": "code",
      "metadata": {
        "id": "xJgQ5i8W60y7"
      },
      "source": [
        "cp -r /content/cp-vton/result/gmm_step_200000.pth/train/warp-mask /content/cp-vton/data/train"
      ],
      "execution_count": null,
      "outputs": []
    },
    {
      "cell_type": "code",
      "metadata": {
        "id": "vv9j2vkXBBLJ"
      },
      "source": [
        "!rm -rf /content/cp-vton/result/gmm_step_200000.pth/train"
      ],
      "execution_count": null,
      "outputs": []
    },
    {
      "cell_type": "markdown",
      "metadata": {
        "id": "IGQmTPrPRpaC"
      },
      "source": [
        "Import warping for TOM train"
      ]
    },
    {
      "cell_type": "code",
      "metadata": {
        "id": "dCheYyKoRhWR"
      },
      "source": [
        "cp /content/drive/MyDrive/warp.zip /content/cp-vton/data"
      ],
      "execution_count": null,
      "outputs": []
    },
    {
      "cell_type": "code",
      "metadata": {
        "id": "6s_NhqAJR93h"
      },
      "source": [
        "!unzip /content/cp-vton/data/warp.zip -d /content/cp-vton/data"
      ],
      "execution_count": null,
      "outputs": []
    },
    {
      "cell_type": "markdown",
      "metadata": {
        "id": "1lTmuGicThJu"
      },
      "source": [
        "Train TOM"
      ]
    },
    {
      "cell_type": "code",
      "metadata": {
        "id": "HuMOa4ZP7LTx"
      },
      "source": [
        "!python train.py --name tom_train_new --stage TOM --workers 4 --save_count 5000 --display_count 500 --batch-size 8 --shuffle --checkpoint /content/cp-vton/checkpoints/tom_train_new/step_010000.pth"
      ],
      "execution_count": null,
      "outputs": []
    },
    {
      "cell_type": "markdown",
      "metadata": {
        "id": "N9jY4_7bDwxg"
      },
      "source": [
        "Check Tensorboard"
      ]
    },
    {
      "cell_type": "code",
      "metadata": {
        "id": "OmBDNq6WD28y"
      },
      "source": [
        "%tensorboard --logdir /content/cp-vton/tensorboard/tom_train_new"
      ],
      "execution_count": null,
      "outputs": []
    },
    {
      "cell_type": "markdown",
      "metadata": {
        "id": "VhYm8ik6C_Gl"
      },
      "source": [
        "Download checkpoint"
      ]
    },
    {
      "cell_type": "code",
      "metadata": {
        "id": "N-DS8cceqyDf"
      },
      "source": [
        "cd /content/cp-vton/checkpoints/tom_train_new/"
      ],
      "execution_count": null,
      "outputs": []
    },
    {
      "cell_type": "code",
      "metadata": {
        "id": "MVMoGpUBZlQr"
      },
      "source": [
        "!ls -l"
      ],
      "execution_count": null,
      "outputs": []
    },
    {
      "cell_type": "code",
      "metadata": {
        "id": "pb_BS3sCZpHA"
      },
      "source": [
        "files.download('/content/cp-vton/checkpoints/tom_train_new/step_050000.pth') "
      ],
      "execution_count": null,
      "outputs": []
    },
    {
      "cell_type": "code",
      "metadata": {
        "id": "ZBXahT5EZwDi"
      },
      "source": [
        "cd /content/cp-vton"
      ],
      "execution_count": null,
      "outputs": []
    },
    {
      "cell_type": "markdown",
      "metadata": {
        "id": "RwH-Puo_DBtC"
      },
      "source": [
        "TOM evaluation"
      ]
    },
    {
      "cell_type": "code",
      "metadata": {
        "id": "TI4JLAT6C8pf"
      },
      "source": [
        "!python test.py --name tom_test_new --stage TOM --workers 4 --datamode train --data_list train_pairs.txt --checkpoint /content/drive/MyDrive/tom_step_060000.pth"
      ],
      "execution_count": null,
      "outputs": []
    },
    {
      "cell_type": "code",
      "metadata": {
        "id": "oRNo0QJ7oJAN"
      },
      "source": [
        "%load_ext tensorboard"
      ],
      "execution_count": null,
      "outputs": []
    },
    {
      "cell_type": "code",
      "metadata": {
        "id": "NA4W3FoJthNN"
      },
      "source": [
        "%tensorboard --logdir /content/cp-vton/tensorboard/tom_test_new"
      ],
      "execution_count": null,
      "outputs": []
    },
    {
      "cell_type": "code",
      "metadata": {
        "id": "Z6Mjp4fBt1TY"
      },
      "source": [
        ""
      ],
      "execution_count": null,
      "outputs": []
    }
  ]
}